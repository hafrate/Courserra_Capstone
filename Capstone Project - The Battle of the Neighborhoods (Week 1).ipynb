{
 "cells": [
  {
   "cell_type": "markdown",
   "metadata": {},
   "source": [
    "# Capstone Project - The Battle of the Neighborhoods (Week 1)\n",
    "### Applied Data Science Capstone"
   ]
  },
  {
   "cell_type": "markdown",
   "metadata": {},
   "source": [
    "## Introduction: Business Problem"
   ]
  },
  {
   "cell_type": "markdown",
   "metadata": {},
   "source": [
    "Location appear one the most important factor in the success of business. In this project, we focus our effort in business location problem for new restaurant in Paris. The main target is a stakeholder who want to open new restaurant in the right place given their target **criteria** : must be in area with high dense office place and ideally far from other restaurant  \n",
    "To help the stakeholders for their decision for finding the best location, we use the **Foursquare** data and the power of **machine learning** to cluster and segmented each promised area.\n",
    "\n",
    "The Foursquare API allow us to explore different aspects of the functional structure of city and the interactions between categories of venue.\n"
   ]
  },
  {
   "cell_type": "markdown",
   "metadata": {},
   "source": [
    "## Data"
   ]
  },
  {
   "cell_type": "markdown",
   "metadata": {},
   "source": [
    "To solve the business problem, we need data from different source:\n",
    "-\tNeighborhoods, from Wikipedia page and Geocoder to find the latitude and longitude of each neighborhood,\n",
    "-\tVenue, from Foursquare API to explore the neighborhoods\n"
   ]
  }
 ],
 "metadata": {
  "kernelspec": {
   "display_name": "Python 3",
   "language": "python",
   "name": "python3"
  },
  "language_info": {
   "codemirror_mode": {
    "name": "ipython",
    "version": 3
   },
   "file_extension": ".py",
   "mimetype": "text/x-python",
   "name": "python",
   "nbconvert_exporter": "python",
   "pygments_lexer": "ipython3",
   "version": "3.6.4"
  }
 },
 "nbformat": 4,
 "nbformat_minor": 2
}
